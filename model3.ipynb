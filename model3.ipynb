{
 "cells": [
  {
   "cell_type": "code",
   "execution_count": 1,
   "metadata": {},
   "outputs": [],
   "source": [
    "import pandas as pd\n",
    "from sklearn.model_selection import train_test_split\n",
    "from transformers import BertForSequenceClassification, AdamW\n",
    "from torch.utils.data import DataLoader, RandomSampler, SequentialSampler\n",
    "from transformers import get_linear_schedule_with_warmup"
   ]
  },
  {
   "cell_type": "code",
   "execution_count": 2,
   "metadata": {},
   "outputs": [],
   "source": [
    "# Load the data\n",
    "train_data = pd.read_csv('train.csv')\n",
    "test_data = pd.read_csv('test.csv')\n",
    "\n",
    "from sklearn.model_selection import train_test_split\n",
    "# Split the training data into training and validation sets\n",
    "train_data, val_data = train_test_split(train_data, test_size=0.2)\n",
    "\n",
    "# concatenate the data\n",
    "train_data['text'] = train_data['title'] + ' ' + train_data['content'].fillna('')\n",
    "test_data['text'] = test_data['title'] + ' ' + test_data['content'].fillna('')\n",
    "val_data['text'] = val_data['title'] + ' ' + val_data['content'].fillna('')\n",
    "\n",
    "# Preprocess the data\n",
    "train_data['text'] = train_data['text'].replace(\"ţ\", \"ț\").replace(\"ş\", \"ș\").replace(\"Ţ\", \"Ț\").replace(\"Ş\", \"Ș\")\n",
    "test_data['text'] = test_data['text'].replace(\"ţ\", \"ț\").replace(\"ş\", \"ș\").replace(\"Ţ\", \"Ț\").replace(\"Ş\", \"Ș\")\n",
    "val_data['text'] = val_data['text'].replace(\"ţ\", \"ț\").replace(\"ş\", \"ș\").replace(\"Ţ\", \"Ț\").replace(\"Ş\", \"Ș\")"
   ]
  },
  {
   "cell_type": "code",
   "execution_count": 3,
   "metadata": {},
   "outputs": [],
   "source": [
    "from transformers import AutoTokenizer, AutoModel\n",
    "tokenizer = AutoTokenizer.from_pretrained(\"dumitrescustefan/bert-base-romanian-cased-v1\")\n",
    "\n",
    "# Ensure all elements in 'text' column are strings\n",
    "train_data['text'] = train_data['text'].astype(str)\n",
    "test_data['text'] = test_data['text'].astype(str)\n",
    "val_data['text'] = val_data['text'].astype(str)\n",
    "\n",
    "# Tokenize the data\n",
    "train_encodings = tokenizer.batch_encode_plus(train_data['text'].tolist(), truncation=True, padding=True, max_length=512)\n",
    "test_encodings = tokenizer.batch_encode_plus(test_data['text'].tolist(), truncation=True, padding=True, max_length=512)\n",
    "val_data = tokenizer.batch_encode_plus(val_data['text'].tolist(), truncation=True, padding=True, max_length=512)"
   ]
  },
  {
   "cell_type": "code",
   "execution_count": null,
   "metadata": {},
   "outputs": [],
   "source": [
    "from torch.utils.data import Dataset\n",
    "\n",
    "class MyDataset(Dataset):\n",
    "    def _init_(self, data):\n",
    "        self.data = data\n",
    "\n",
    "    def _len_(self):\n",
    "        return len(self.data)\n",
    "\n",
    "    def _getitem_(self, idx):\n",
    "        return self.data[idx]\n",
    "\n",
    "# Assuming train_data['text'] is a list of text samples\n",
    "train_dataset = MyDataset(train_data['text'])\n",
    "\n",
    "# Assuming test_encodings is a list of test data encodings\n",
    "test_dataset = MyDataset(test_encodings)\n",
    "\n",
    "# Assuming val_data['text'] is a list of validation text samples\n",
    "val_dataset = MyDataset(val_data['text'])"
   ]
  },
  {
   "cell_type": "code",
   "execution_count": null,
   "metadata": {},
   "outputs": [],
   "source": [
    "# Validate the model\n",
    "model.eval()\n",
    "for batch in validation_loader:\n",
    "    with torch.no_grad():\n",
    "        input_ids = batch['input_ids'].to(device)\n",
    "        attention_mask = batch['attention_mask'].to(device)\n",
    "        labels = batch['labels'].to(device)\n",
    "        outputs = model(input_ids, attention_mask=attention_mask, labels=labels)\n",
    "        loss = outputs[0]"
   ]
  },
  {
   "cell_type": "code",
   "execution_count": null,
   "metadata": {},
   "outputs": [],
   "source": [
    "# Predict the test data\n",
    "model.eval()\n",
    "predictions = []\n",
    "for i, batch in enumerate(test_loader):\n",
    "    with torch.no_grad():\n",
    "        input_ids = batch['input_ids'].to(device)\n",
    "        attention_mask = batch['attention_mask'].to(device)\n",
    "        outputs = model(input_ids, attention_mask=attention_mask)\n",
    "        _, preds = torch.max(outputs, dim=1)\n",
    "        predictions.extend(preds.tolist())\n",
    "\n",
    "# Save to a new CSV file the id of the article and the predictions with an extra newline after each line\n",
    "with open('predictions_bert_ro.csv', 'w') as f:\n",
    "    f.write(\"id,class\\n\\n\")\n",
    "    for id, pred in zip(test_data['id'], predictions):\n",
    "        f.write(f\"{id},{pred}\\n\\n\")\n"
   ]
  }
 ],
 "metadata": {
  "kernelspec": {
   "display_name": "Python 3",
   "language": "python",
   "name": "python3"
  },
  "language_info": {
   "codemirror_mode": {
    "name": "ipython",
    "version": 3
   },
   "file_extension": ".py",
   "mimetype": "text/x-python",
   "name": "python",
   "nbconvert_exporter": "python",
   "pygments_lexer": "ipython3",
   "version": "3.10.12"
  }
 },
 "nbformat": 4,
 "nbformat_minor": 2
}
